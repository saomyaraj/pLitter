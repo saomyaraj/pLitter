{
  "cells": [
    {
      "cell_type": "code",
      "execution_count": null,
      "metadata": {},
      "outputs": [],
      "source": [
        "!git clone --recurse-submodules https://github.com/gicait/pLitter.git\n",
        "%cd pLitter\n",
        "!pip install -e ."
      ]
    },
    {
      "cell_type": "code",
      "execution_count": null,
      "metadata": {
        "id": "FO31crDY2ItQ"
      },
      "outputs": [],
      "source": [
        "!mkdir ./data\n",
        "!wget -O ./data/pLitterStreet_Sample_DATA.zip https://github.com/gicait/pLitter/releases/download/v0.0.0-street/pLitterStreet_Sample_DATA.zip\n",
        "!unzip ./data/pLitterStreet_Sample_DATA.zip -d ./data/.\n",
        "# !rm -rf './data/pLitterStreet_Sample_DATA.zip'"
      ]
    },
    {
      "cell_type": "code",
      "execution_count": null,
      "metadata": {},
      "outputs": [],
      "source": [
        "from plitter import spatial\n",
        "from plitter.detector import detector, draw_boxes_and_count_on_image\n",
        "import time\n",
        "import cv2\n",
        "\n",
        "model = detector('cctv')\n",
        "# Open a sample riverine video or image\n",
        "cap = cv2.VideoCapture('../path_to_riverine_video.mp4')  # Or use cv2.imread() for an image\n",
        "\n",
        "while cap.isOpened():\n",
        "    ret, frame = cap.read()\n",
        "    if not ret:\n",
        "        break\n",
        "\n",
        "    # Run detection on the frame\n",
        "    preds = model(frame, size=1280)\n",
        "    # Extract prediction details\n",
        "    boxes = preds.xyxy[0][:, :4].tolist()\n",
        "    scores = preds.xyxy[0][:, 4].tolist()\n",
        "    class_ids = preds.xyxy[0][:, 5].tolist()\n",
        "    classes = [model.names[int(i)] for i in class_ids]\n",
        "\n",
        "    # Annotate the frame with boxes and the count overlay\n",
        "    annotated_frame = draw_boxes_and_count_on_image(frame, boxes, classes, class_ids, scores)\n",
        "\n",
        "    # Display the result\n",
        "    cv2.imshow('Annotated Frame', annotated_frame)\n",
        "    if cv2.waitKey(1) & 0xFF == ord('q'):\n",
        "        break\n",
        "\n",
        "cap.release()\n",
        "cv2.destroyAllWindows()\n",
        "route = spatial.pTrack('./data')\n",
        "\n",
        "start = time.time()\n",
        "route.load()\n",
        "route.detect(model, skip_frames=4)\n",
        "end = time.time()\n",
        "\n",
        "print(\"Time taken: \", end - start, \" seconds\")\n",
        "\n",
        "route.export('./data/sample.geojson')"
      ]
    },
    {
      "cell_type": "code",
      "execution_count": null,
      "metadata": {},
      "outputs": [],
      "source": [
        "from plitter import spatial\n",
        "from plitter.detector import detector, tracker\n",
        "import time\n",
        "\n",
        "model = detector('street')\n",
        "tracker = tracker('strongsort')\n",
        "\n",
        "route = spatial.pTrack('./data')\n",
        "\n",
        "start = time.time()\n",
        "route.load()\n",
        "route.detect(model, tracker, skip_frames=0)\n",
        "end = time.time()\n",
        "\n",
        "print(\"Time taken: \", end - start, \" seconds\")\n",
        "\n",
        "route.export('./data/sample.geojson')"
      ]
    },
    {
      "cell_type": "code",
      "execution_count": null,
      "metadata": {},
      "outputs": [],
      "source": [
        "# usb camera and using tracker\n",
        "\n",
        "# !python3 plitter/stationCam.py --sensor-id 0 --dest data\n",
        "# !python3 plitter/stationCam.py --sensor-id 0 --dest data --csi-cam\n",
        "# !python3 plitter/stationCam.py --sensor-id 0 --dest data --use-tracker\n",
        "# !python3 plitter/stationCam.py --sensor-id 0 --dest data --use-tracker --save"
      ]
    }
  ],
  "metadata": {
    "accelerator": "GPU",
    "colab": {
      "collapsed_sections": [],
      "provenance": []
    },
    "kernelspec": {
      "display_name": "Python 3",
      "language": "python",
      "name": "python3"
    },
    "language_info": {
      "name": "python",
      "version": "3.12.6"
    }
  },
  "nbformat": 4,
  "nbformat_minor": 0
}
